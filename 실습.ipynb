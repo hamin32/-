{
  "cells": [
    {
      "cell_type": "markdown",
      "metadata": {
        "id": "view-in-github",
        "colab_type": "text"
      },
      "source": [
        "<a href=\"https://colab.research.google.com/github/hamin32/-/blob/main/%EC%8B%A4%EC%8A%B5.ipynb\" target=\"_parent\"><img src=\"https://colab.research.google.com/assets/colab-badge.svg\" alt=\"Open In Colab\"/></a>"
      ]
    },
    {
      "cell_type": "markdown",
      "metadata": {
        "id": "hZkg7eKiBXkF"
      },
      "source": [
        "## 조건문\n",
        "### if\n",
        "* https://docs.python.org/ko/3/tutorial/controlflow.html#if-statements"
      ]
    },
    {
      "cell_type": "markdown",
      "source": [
        "##기본개념\n",
        "\n",
        "if: 처음 조건을 검사할 때 사용.\n",
        "\n",
        "elif: 앞의 조건이 거짓일 때, 이어서 다른 조건을 검사할 때 사용.\n",
        "\n",
        "else: 위의 모든 조건이 거짓일 때 실행.\n",
        "\n"
      ],
      "metadata": {
        "id": "vvPxfXnWDglR"
      }
    },
    {
      "cell_type": "code",
      "execution_count": 12,
      "metadata": {
        "id": "ZyCxhs-lBXkK",
        "colab": {
          "base_uri": "https://localhost:8080/"
        },
        "outputId": "c89e1fd9-2e0b-4140-8b19-5d978992b536"
      },
      "outputs": [
        {
          "output_type": "stream",
          "name": "stdout",
          "text": [
            "Please enter an integer: 0\n",
            "영\n"
          ]
        }
      ],
      "source": [
        "# 숫자를 입력받아 음수와 양수 여부를 출력합니다.\n",
        "x = int(input(\"Please enter an integer: \"))\n",
        "if x>0 :\n",
        "      print('양수')\n",
        "elif x==0 :\n",
        "      print('영')\n",
        "else:\n",
        "      print('음수')"
      ]
    },
    {
      "cell_type": "markdown",
      "metadata": {
        "id": "Kfwuv0N1BXkM"
      },
      "source": [
        "## 반복문\n",
        "### for\n",
        "* https://docs.python.org/ko/3/tutorial/controlflow.html#for-statements"
      ]
    },
    {
      "cell_type": "code",
      "execution_count": 15,
      "metadata": {
        "id": "P_9SIINHBXkM",
        "colab": {
          "base_uri": "https://localhost:8080/"
        },
        "outputId": "b22aa27c-6ce6-4e23-ef74-6d2aeb6c88ed"
      },
      "outputs": [
        {
          "output_type": "stream",
          "name": "stdout",
          "text": [
            "배추\n",
            "무\n",
            "토마토\n",
            "사과\n"
          ]
        }
      ],
      "source": [
        "# 리스트 안에 있는 값을 순회하며 반복문으로 출력해 보세요.\n",
        "words = ['배추', '무', '토마토', '사과']\n",
        "words[1]\n",
        "for w in words :\n",
        "    print(w)"
      ]
    },
    {
      "cell_type": "markdown",
      "metadata": {
        "id": "9p60HHnpBXkN"
      },
      "source": [
        "### range() 함수\n",
        "* https://docs.python.org/ko/3/tutorial/controlflow.html#the-range-function"
      ]
    },
    {
      "cell_type": "code",
      "execution_count": 16,
      "metadata": {
        "id": "CHvzVc9BBXkN",
        "colab": {
          "base_uri": "https://localhost:8080/"
        },
        "outputId": "b4e78e7c-40e7-45dc-96b4-553ea2792608"
      },
      "outputs": [
        {
          "output_type": "execute_result",
          "data": {
            "text/plain": [
              "[0, 1, 2, 3, 4, 5, 6, 7, 8]"
            ]
          },
          "metadata": {},
          "execution_count": 16
        }
      ],
      "source": [
        "# range로 범위를 지정해 반복문을 수행할 수 있습니다.\n",
        "list(range(9))"
      ]
    },
    {
      "cell_type": "code",
      "source": [
        "range(5)"
      ],
      "metadata": {
        "colab": {
          "base_uri": "https://localhost:8080/"
        },
        "id": "4Bf36zNpE6ak",
        "outputId": "9ed85565-9fd5-47b0-e5e9-2b812677d662"
      },
      "execution_count": 18,
      "outputs": [
        {
          "output_type": "execute_result",
          "data": {
            "text/plain": [
              "range(0, 5)"
            ]
          },
          "metadata": {},
          "execution_count": 18
        }
      ]
    },
    {
      "cell_type": "code",
      "execution_count": 20,
      "metadata": {
        "id": "gK5SnuvpBXkN",
        "colab": {
          "base_uri": "https://localhost:8080/"
        },
        "outputId": "ee535b2c-6676-47c1-874d-766e26a816a6"
      },
      "outputs": [
        {
          "output_type": "execute_result",
          "data": {
            "text/plain": [
              "range(0, 5)"
            ]
          },
          "metadata": {},
          "execution_count": 20
        }
      ],
      "source": [
        "# 리스트를 변수로 받아 순회할 수도 있지만 리스트의 길이만큼 range 값을 생성하여 순회할 수도 있습니다.\n",
        "a = ['Mary', 'had', 'a', 'little', 'lamb']\n",
        "range(len(a))"
      ]
    },
    {
      "cell_type": "code",
      "execution_count": 21,
      "metadata": {
        "id": "NbToc6aoBXkO",
        "colab": {
          "base_uri": "https://localhost:8080/"
        },
        "outputId": "32576482-0efa-4982-f82b-8aa145279300"
      },
      "outputs": [
        {
          "output_type": "stream",
          "name": "stdout",
          "text": [
            "0 Mary\n",
            "1 had\n",
            "2 a\n",
            "3 little\n",
            "4 lamb\n"
          ]
        }
      ],
      "source": [
        "# enumerate 를 사용하면 인덱스 번호와 값을 함께 가져올 수 있습니다.\n",
        "for i, val in enumerate(a):\n",
        "    print(i, val)"
      ]
    },
    {
      "cell_type": "markdown",
      "metadata": {
        "id": "YegqfyMIBXkO"
      },
      "source": [
        "### range 응용"
      ]
    },
    {
      "cell_type": "code",
      "execution_count": 24,
      "metadata": {
        "id": "NVrb5TYGBXkP",
        "colab": {
          "base_uri": "https://localhost:8080/"
        },
        "outputId": "d9b791c5-c56d-471d-d202-5aa328737e1b"
      },
      "outputs": [
        {
          "output_type": "execute_result",
          "data": {
            "text/plain": [
              "[0, 1, 2, 3]"
            ]
          },
          "metadata": {},
          "execution_count": 24
        }
      ],
      "source": [
        "# 합계 구하기\n",
        "# 0 + 1 + 2 + 3 를 range와 sum을 사용해 구합니다.\n",
        "list(range(4))"
      ]
    },
    {
      "cell_type": "code",
      "execution_count": 25,
      "metadata": {
        "id": "emHesJcYBXkP",
        "colab": {
          "base_uri": "https://localhost:8080/"
        },
        "outputId": "5112f46d-c011-4408-91e8-b31bece75c5e"
      },
      "outputs": [
        {
          "output_type": "execute_result",
          "data": {
            "text/plain": [
              "6"
            ]
          },
          "metadata": {},
          "execution_count": 25
        }
      ],
      "source": [
        "# 리스트로 만들기\n",
        "# list를 사용해 [0, 1, 2, 3] 리스트를 생성합니다.\n",
        "sum(range(4))"
      ]
    },
    {
      "cell_type": "markdown",
      "metadata": {
        "id": "f2tPwsnbBXkQ"
      },
      "source": [
        "### 조건문과 반복문 함께 사용하기"
      ]
    },
    {
      "cell_type": "code",
      "execution_count": 27,
      "metadata": {
        "id": "LZgoKdYlBXkQ",
        "colab": {
          "base_uri": "https://localhost:8080/"
        },
        "outputId": "02c02828-42fd-4cd6-cb7e-8b0c2020fdf0"
      },
      "outputs": [
        {
          "output_type": "stream",
          "name": "stdout",
          "text": [
            "홀수\n",
            "짝수\n",
            "홀수\n",
            "짝수\n",
            "홀수\n",
            "짝수\n",
            "홀수\n",
            "짝수\n",
            "홀수\n",
            "짝수\n"
          ]
        }
      ],
      "source": [
        "# range로 값을 순회하며 짝수일 때는 \"짝수\"를 홀수일 때는 \"홀수\"를 출력하게 합니다.\n",
        "for i in range(1, 11):       # i가 1부터 10까지 반복\n",
        "    if i % 2 == 0:           # i를 2로 나눈 나머지가 0이면 (짝수라면)\n",
        "        print(\"짝수\")\n",
        "    else:                    # 그렇지 않으면 (홀수라면)\n",
        "        print(\"홀수\")\n"
      ]
    },
    {
      "cell_type": "markdown",
      "metadata": {
        "id": "h8hxAH2FBXkQ"
      },
      "source": [
        "### While 문\n",
        "* 조건문이 참인 동안 순회하며 실행되기 때문에 특정 조건까지 반복문을 수행하고자 할때 사용합니다.\n",
        "* 예를 들어 특정 웹페이지를 순회한다면 내용이 없을 때까지 순회하라는 반복문을 구현할 수 있습니다."
      ]
    },
    {
      "cell_type": "code",
      "execution_count": 29,
      "metadata": {
        "id": "Z9HbMvtuBXkQ",
        "colab": {
          "base_uri": "https://localhost:8080/"
        },
        "outputId": "6e0fcbb4-70a7-4bf5-c161-9d859925a728"
      },
      "outputs": [
        {
          "output_type": "stream",
          "name": "stdout",
          "text": [
            "1\n",
            "2\n",
            "3\n",
            "4\n",
            "5\n",
            "6\n",
            "7\n",
            "8\n",
            "9\n",
            "10\n"
          ]
        }
      ],
      "source": [
        "# 변수의 초깃값을 부여하고 특정 변수값이 되면 종료하도록 합니다.\n",
        "변수 = 0\n",
        "\n",
        "while True:                 # 무한 루프 시작\n",
        "    변수 = 변수 + 1          # 변수에 1을 더함\n",
        "    print(변수)              # 변수 값 출력\n",
        "    if 변수 >= 10:          # 만약 변수 값이 10 이상이면\n",
        "        break"
      ]
    },
    {
      "cell_type": "markdown",
      "metadata": {
        "id": "HBVC69ajBXkQ"
      },
      "source": [
        "## 함수\n",
        "* https://docs.python.org/ko/3/tutorial/controlflow.html#defining-functions"
      ]
    },
    {
      "cell_type": "code",
      "execution_count": 26,
      "metadata": {
        "id": "ACD6-tSeBXkQ"
      },
      "outputs": [],
      "source": [
        "# 평균을 구하는 average 라는 이름을 갖는 함수를 만들어 보세요.\n",
        "\n",
        "def average(data):\n",
        "   \"\"\"우꺄꺄\"\"\"\n",
        "   avg = sum(data) / len(data)\n",
        "   return avg\n",
        ""
      ]
    },
    {
      "cell_type": "code",
      "execution_count": 22,
      "metadata": {
        "id": "6AUiMyLbBXkR",
        "colab": {
          "base_uri": "https://localhost:8080/"
        },
        "outputId": "6aee5cfa-692c-44c4-97a9-d27792bc7600"
      },
      "outputs": [
        {
          "output_type": "execute_result",
          "data": {
            "text/plain": [
              "5.0"
            ]
          },
          "metadata": {},
          "execution_count": 22
        }
      ],
      "source": [
        "# 함수가 잘 만들어졌는지 확인합니다.\n",
        "data = range(1, 10)\n",
        "average(data)"
      ]
    },
    {
      "cell_type": "code",
      "source": [
        "average??"
      ],
      "metadata": {
        "id": "J_pnPm9JgiMR"
      },
      "execution_count": 28,
      "outputs": []
    },
    {
      "cell_type": "markdown",
      "metadata": {
        "id": "uB7bHFYmBXkR"
      },
      "source": [
        "### sum 함수 for 문으로 직접 구현해 보기"
      ]
    },
    {
      "cell_type": "code",
      "execution_count": 29,
      "metadata": {
        "id": "IXjsDsSBBXkR"
      },
      "outputs": [],
      "source": [
        "# 함수명은 total_sum 으로 매개변수는 num 이 되도록 구현합니다.\n",
        "def total_sum(num):\n",
        "    total = 0\n",
        "    for i in num:\n",
        "        total = total + i\n",
        "    return total"
      ]
    },
    {
      "cell_type": "code",
      "execution_count": 30,
      "metadata": {
        "id": "WE3HLn1kBXkR",
        "colab": {
          "base_uri": "https://localhost:8080/"
        },
        "outputId": "4c69c1bc-7e25-4849-c5ec-c83144b3ad42"
      },
      "outputs": [
        {
          "output_type": "stream",
          "name": "stdout",
          "text": [
            "[1, 2, 3, 4, 5, 6, 7, 8, 9, 10]\n"
          ]
        },
        {
          "output_type": "execute_result",
          "data": {
            "text/plain": [
              "55"
            ]
          },
          "metadata": {},
          "execution_count": 30
        }
      ],
      "source": [
        "# 함수가 잘 만들어졌는지 확인합니다.\n",
        "num = range(1, 11)\n",
        "print(list(num))\n",
        "total_sum(num)"
      ]
    },
    {
      "cell_type": "code",
      "execution_count": 33,
      "metadata": {
        "id": "Exjx8w7WBXkR",
        "colab": {
          "base_uri": "https://localhost:8080/"
        },
        "outputId": "52fa7637-569f-48bc-de27-bb6b58a113d4"
      },
      "outputs": [
        {
          "output_type": "execute_result",
          "data": {
            "text/plain": [
              "55"
            ]
          },
          "metadata": {},
          "execution_count": 33
        }
      ],
      "source": [
        "sum(list(num))\n"
      ]
    },
    {
      "cell_type": "code",
      "source": [
        "{'경기': '031',\n",
        "'강원': '033',\n",
        "'충남': '041',\n",
        "'충북': '043',\n",
        "'경북': '054',\n",
        "'경남': '055',\n",
        "'전남': '061',\n",
        "'전북': '063'}"
      ],
      "metadata": {
        "colab": {
          "base_uri": "https://localhost:8080/"
        },
        "id": "jc4gZ0LYswn4",
        "outputId": "38c5dec6-9b92-4fb3-9b80-d32fcfeb0d5a"
      },
      "execution_count": 34,
      "outputs": [
        {
          "output_type": "execute_result",
          "data": {
            "text/plain": [
              "{'경기': '031',\n",
              " '강원': '033',\n",
              " '충남': '041',\n",
              " '충북': '043',\n",
              " '경북': '054',\n",
              " '경남': '055',\n",
              " '전남': '061',\n",
              " '전북': '063'}"
            ]
          },
          "metadata": {},
          "execution_count": 34
        }
      ]
    },
    {
      "cell_type": "code",
      "source": [
        "# 아래의 문자를 딕셔너리 형태로 변경하기\n",
        "phone = \">경기 031 >강원 033 >충남 041 >충북 043 >경북 054 >경남 055 >전남 061 >전북 063\"\n",
        "# \">\" 문자를 기준으로 문자열을 나눕니다. => split() 으로 리스트로 변환\n",
        "# for문으로 리스트를 반복해서 phone_dict 에 채웁니다."
      ],
      "metadata": {
        "id": "DtoDqOs_s2Tz"
      },
      "execution_count": 35,
      "outputs": []
    },
    {
      "cell_type": "code",
      "source": [
        "phone"
      ],
      "metadata": {
        "colab": {
          "base_uri": "https://localhost:8080/",
          "height": 35
        },
        "id": "c1mHXzGQtGhz",
        "outputId": "d9df08c3-2392-4cee-eca3-01a6dbb2d03f"
      },
      "execution_count": 36,
      "outputs": [
        {
          "output_type": "execute_result",
          "data": {
            "text/plain": [
              "'>경기 031 >강원 033 >충남 041 >충북 043 >경북 054 >경남 055 >전남 061 >전북 063'"
            ],
            "application/vnd.google.colaboratory.intrinsic+json": {
              "type": "string"
            }
          },
          "metadata": {},
          "execution_count": 36
        }
      ]
    },
    {
      "cell_type": "code",
      "source": [
        "l_list = phone.split(\">\")"
      ],
      "metadata": {
        "id": "e0MEWEOptMHF"
      },
      "execution_count": 41,
      "outputs": []
    },
    {
      "cell_type": "code",
      "source": [
        "l_list"
      ],
      "metadata": {
        "colab": {
          "base_uri": "https://localhost:8080/"
        },
        "id": "l0p5OWRZtjpO",
        "outputId": "acd792d6-8988-4a73-fbdc-f82871609999"
      },
      "execution_count": 43,
      "outputs": [
        {
          "output_type": "execute_result",
          "data": {
            "text/plain": [
              "['',\n",
              " '경기 031 ',\n",
              " '강원 033 ',\n",
              " '충남 041 ',\n",
              " '충북 043 ',\n",
              " '경북 054 ',\n",
              " '경남 055 ',\n",
              " '전남 061 ',\n",
              " '전북 063']"
            ]
          },
          "metadata": {},
          "execution_count": 43
        }
      ]
    },
    {
      "cell_type": "code",
      "source": [
        "l_list[1].split()"
      ],
      "metadata": {
        "colab": {
          "base_uri": "https://localhost:8080/"
        },
        "id": "3C5iVg41tmvc",
        "outputId": "27261236-8f6e-4b7b-85c4-35e852337488"
      },
      "execution_count": 46,
      "outputs": [
        {
          "output_type": "execute_result",
          "data": {
            "text/plain": [
              "['경기', '031']"
            ]
          },
          "metadata": {},
          "execution_count": 46
        }
      ]
    },
    {
      "cell_type": "code",
      "source": [
        "phone_dict = {}\n",
        "for p in l_list:\n",
        "    p_split = p.split()\n",
        "    if len(p_split) > 0:\n",
        "        key = p_split[0]\n",
        "        val = p_split[1]\n",
        "        phone_dict[key] = val\n",
        "        print(key, val)"
      ],
      "metadata": {
        "colab": {
          "base_uri": "https://localhost:8080/"
        },
        "id": "yFgm894yuA6R",
        "outputId": "1419e3f1-befe-4950-efaf-a1e093eddc15"
      },
      "execution_count": 51,
      "outputs": [
        {
          "output_type": "stream",
          "name": "stdout",
          "text": [
            "경기 031\n",
            "강원 033\n",
            "충남 041\n",
            "충북 043\n",
            "경북 054\n",
            "경남 055\n",
            "전남 061\n",
            "전북 063\n"
          ]
        }
      ]
    },
    {
      "cell_type": "code",
      "source": [
        "phone_dict"
      ],
      "metadata": {
        "colab": {
          "base_uri": "https://localhost:8080/"
        },
        "id": "Gsz2RnaIwHGu",
        "outputId": "71005a2f-7fe4-40b6-c8d6-51440634b521"
      },
      "execution_count": 52,
      "outputs": [
        {
          "output_type": "execute_result",
          "data": {
            "text/plain": [
              "{'경기': '031',\n",
              " '강원': '033',\n",
              " '충남': '041',\n",
              " '충북': '043',\n",
              " '경북': '054',\n",
              " '경남': '055',\n",
              " '전남': '061',\n",
              " '전북': '063'}"
            ]
          },
          "metadata": {},
          "execution_count": 52
        }
      ]
    },
    {
      "cell_type": "code",
      "source": [
        "phone_dict[\"충북\"]"
      ],
      "metadata": {
        "colab": {
          "base_uri": "https://localhost:8080/",
          "height": 35
        },
        "id": "t0GsgGRqwknj",
        "outputId": "21de3163-f189-49cb-ccf4-0ad6cfecf44c"
      },
      "execution_count": 54,
      "outputs": [
        {
          "output_type": "execute_result",
          "data": {
            "text/plain": [
              "'043'"
            ],
            "application/vnd.google.colaboratory.intrinsic+json": {
              "type": "string"
            }
          },
          "metadata": {},
          "execution_count": 54
        }
      ]
    },
    {
      "cell_type": "code",
      "source": [],
      "metadata": {
        "id": "Um49_dfwwngR"
      },
      "execution_count": null,
      "outputs": []
    }
  ],
  "metadata": {
    "colab": {
      "collapsed_sections": [
        "thxfIvC6u4Ga",
        "tMKs81M3sQ9e",
        "uQ0VMYAbu4Gi",
        "ZYBqz3-MsQ94",
        "-mqoFD_Bu4Gv",
        "x4H0bcnisQ-F",
        "Axqztu27sQ-N",
        "Cc2lnQWmsQ-U",
        "AAv0qz8gsQ-o",
        "uzFfT5GTu4Js"
      ],
      "provenance": [],
      "include_colab_link": true
    },
    "kernelspec": {
      "display_name": "Python 3",
      "language": "python",
      "name": "python3"
    },
    "language_info": {
      "codemirror_mode": {
        "name": "ipython",
        "version": 3
      },
      "file_extension": ".py",
      "mimetype": "text/x-python",
      "name": "python",
      "nbconvert_exporter": "python",
      "pygments_lexer": "ipython3",
      "version": "3.7.6"
    },
    "toc": {
      "base_numbering": 1,
      "nav_menu": {},
      "number_sections": true,
      "sideBar": true,
      "skip_h1_title": false,
      "title_cell": "Table of Contents",
      "title_sidebar": "Contents",
      "toc_cell": false,
      "toc_position": {},
      "toc_section_display": true,
      "toc_window_display": false
    },
    "varInspector": {
      "cols": {
        "lenName": 16,
        "lenType": 16,
        "lenVar": 40
      },
      "kernels_config": {
        "python": {
          "delete_cmd_postfix": "",
          "delete_cmd_prefix": "del ",
          "library": "var_list.py",
          "varRefreshCmd": "print(var_dic_list())"
        },
        "r": {
          "delete_cmd_postfix": ") ",
          "delete_cmd_prefix": "rm(",
          "library": "var_list.r",
          "varRefreshCmd": "cat(var_dic_list()) "
        }
      },
      "types_to_exclude": [
        "module",
        "function",
        "builtin_function_or_method",
        "instance",
        "_Feature"
      ],
      "window_display": false
    }
  },
  "nbformat": 4,
  "nbformat_minor": 0
}